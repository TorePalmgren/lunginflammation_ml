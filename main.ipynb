{
 "cells": [
  {
   "cell_type": "code",
   "execution_count": 20,
   "metadata": {},
   "outputs": [],
   "source": [
    "#nödvändiga imports för pytorch\n",
    "import torch\n",
    "import torchvision\n",
    "import torch.nn as nn\n",
    "import torch.nn.functional as F\n",
    "import torch.optim as optim\n",
    "from torch.utils.data import Dataset, DataLoader\n",
    "\n",
    "#för att arbeta med filer och mappar\n",
    "import os\n",
    "\n",
    "#för att manipulera bilderna\n",
    "import cv2\n",
    "\n",
    "#för att kunna visualisera bilder och grafer\n",
    "from matplotlib import pyplot as plt\n",
    "\n",
    "#för att arbeta med siffror\n",
    "import numpy as np\n",
    "\n",
    "#progressbar\n",
    "from tqdm import tqdm\n",
    "\n",
    "\n",
    "import pydicom as dicom\n",
    "\n",
    "\n",
    "from random import randint\n",
    "\n",
    "#används för att kontinuerligt kunna spara data och modeller.\n",
    "import pickle"
   ]
  },
  {
   "cell_type": "code",
   "execution_count": 13,
   "metadata": {},
   "outputs": [
    {
     "name": "stderr",
     "output_type": "stream",
     "text": [
      " 96%|█████████▋| 1299/1349 [00:46<00:01, 27.90it/s]\n",
      " 33%|███▎      | 1299/3883 [00:26<00:51, 49.92it/s]\n"
     ]
    },
    {
     "name": "stdout",
     "output_type": "stream",
     "text": [
      "\n",
      "no of normal:  1300\n",
      "no of anomaly:  1300\n",
      "\n"
     ]
    },
    {
     "name": "stderr",
     "output_type": "stream",
     "text": [
      " 98%|█████████▊| 229/234 [00:04<00:00, 48.38it/s]\n",
      " 59%|█████▊    | 229/390 [00:02<00:01, 107.21it/s]"
     ]
    },
    {
     "name": "stdout",
     "output_type": "stream",
     "text": [
      "\n",
      "no of normal:  230\n",
      "no of anomaly:  230\n",
      "\n",
      "\n",
      "length of trainset:  2600\n",
      "length of validationset:  460\n"
     ]
    },
    {
     "name": "stderr",
     "output_type": "stream",
     "text": [
      "\n"
     ]
    }
   ],
   "source": [
    "#paths till data som ligger på google drive\n",
    "# train_anomaly = r'D:\\ml gymarb\\pnemoni\\anomaly'\n",
    "# train_normal = r'D:\\ml gymarb\\pnemoni\\normal'\n",
    "\n",
    "# val_anomaly = r'D:\\ml gymarb\\pnemoni\\val_anomaly'\n",
    "# val_normal = r'D:\\ml gymarb\\pnemoni\\val_normal'\n",
    "\n",
    "\n",
    "train_anomaly = r'D:\\ml gymarb\\crx\\chest_xray\\train\\PNEUMONIA'\n",
    "train_normal = r'D:\\ml gymarb\\crx\\chest_xray\\train\\NORMAL'\n",
    "\n",
    "val_anomaly = r'D:\\ml gymarb\\crx\\chest_xray\\test\\PNEUMONIA'\n",
    "val_normal = r'D:\\ml gymarb\\crx\\chest_xray\\test\\NORMAL'\n",
    "\n",
    "\n",
    "\n",
    "\n",
    "\n",
    "\n",
    "LABELS_train = {train_normal: 0, train_anomaly: 1}\n",
    "classes = ('Normal', 'Anomaly')\n",
    "\n",
    "\n",
    "#alla bilder standardiseras till denna storlek\n",
    "img_size = 512\n",
    "\n",
    "\n",
    "\n",
    "\n",
    "\n",
    "#det är viktigt att normal kommer för anomaly när du ger filpaths\n",
    "class tbDataset(Dataset):\n",
    "    def __init__(self, normal_path, anomaly_path, breakoff):\n",
    "        self.samples = []\n",
    "        self.image_folders = {normal_path: 0, anomaly_path: 1}\n",
    "\n",
    "\n",
    "        for folder in self.image_folders:\n",
    "            #print(folder)\n",
    " \n",
    "            for image in tqdm(os.listdir(folder)):\n",
    "            #for image in os.listdir(folder):\n",
    "              #print(image)\n",
    "\n",
    "            \n",
    "              #if '.jpg' in image:\n",
    "              path = folder + '/' + image\n",
    "\n",
    "                  #öppnar bilden som svartvit\n",
    "              img = cv2.imread(path, cv2.IMREAD_GRAYSCALE)\n",
    "\n",
    "                  #ändrar storleken på bilden till img_size\n",
    "              img = cv2.resize(img, (img_size, img_size))\n",
    "\n",
    "                  #lägger till bilderna (som numpy arrays) samt en label i samples\n",
    "              self.samples.append((np.array(img), self.image_folders[folder]))\n",
    "\n",
    "\n",
    "              #begränsar till en viss mängd bilder totalt.\n",
    "              if folder == train_normal or folder == val_normal:\n",
    "                if len(self.samples) >= breakoff:\n",
    "                  break\n",
    "              if folder == train_anomaly or folder == val_anomaly:\n",
    "                if len(self.samples) >= (breakoff*2):\n",
    "                  break\n",
    "\n",
    "\n",
    "        #räknar antal förekomster av normal och anomaly\n",
    "        normal_count = 0\n",
    "        anomaly_count = 0\n",
    "        for sample in self.samples:      \n",
    "          if sample[1] == 0:\n",
    "            normal_count += 1\n",
    "          elif sample[1] == 1:\n",
    "            anomaly_count += 1\n",
    "        print('')\n",
    "        print('no of normal: ', normal_count)\n",
    "        print('no of anomaly: ', anomaly_count)\n",
    "        print('')\n",
    "        \n",
    "\n",
    "\n",
    "    def __len__(self):\n",
    "        return len(self.samples)\n",
    " \n",
    "    def __getitem__(self, idx):\n",
    "        return(self.samples[idx])\n",
    " \n",
    "tSet = tbDataset(train_normal, train_anomaly, 1300)\n",
    "vSet = tbDataset(val_normal, val_anomaly, 230)\n",
    "\n",
    "print('')\n",
    "print('length of trainset: ', len(tSet))\n",
    "print('length of validationset: ', len(vSet))\n",
    "\n"
   ]
  },
  {
   "cell_type": "code",
   "execution_count": 14,
   "metadata": {},
   "outputs": [],
   "source": [
    "batchSize = 64\n",
    "\n",
    "\n",
    "#skapar dataloaders\n",
    "trainLoader = DataLoader(tSet, batch_size=batchSize, shuffle=True, drop_last=True)\n",
    "valLoader = DataLoader(vSet, batch_size=batchSize, shuffle=True, drop_last=True)"
   ]
  },
  {
   "cell_type": "code",
   "execution_count": 15,
   "metadata": {},
   "outputs": [
    {
     "data": {
      "image/png": "[encoded data removed]",
      "text/plain": [
       "<Figure size 432x288 with 1 Axes>"
      ]
     },
     "metadata": {
      "needs_background": "light"
     },
     "output_type": "display_data"
    },
    {
     "name": "stdout",
     "output_type": "stream",
     "text": [
      "Anomaly\n"
     ]
    }
   ],
   "source": [
    "def imshow(img):\n",
    "    npimg = img.numpy()\n",
    "    plt.imshow(np.transpose(npimg, (1, 2, 0)))\n",
    "    plt.show()\n",
    "\n",
    "\n",
    "# get some random training images\n",
    "dataiter = iter(trainLoader)\n",
    "images, labels = dataiter.next()\n",
    "\n",
    "# show image\n",
    "imshow(torchvision.utils.make_grid(images[0]))\n",
    "# print label\n",
    "#print(labels[0])\n",
    "print(classes[labels[0]])"
   ]
  },
  {
   "cell_type": "code",
   "execution_count": 16,
   "metadata": {},
   "outputs": [
    {
     "name": "stdout",
     "output_type": "stream",
     "text": [
      "Net(\n",
      "  (fc1): Linear(in_features=262144, out_features=1024, bias=True)\n",
      "  (fc2): Linear(in_features=1024, out_features=1024, bias=True)\n",
      "  (fc3): Linear(in_features=1024, out_features=512, bias=True)\n",
      "  (fc4): Linear(in_features=512, out_features=256, bias=True)\n",
      "  (fc5): Linear(in_features=256, out_features=2, bias=True)\n",
      ")\n"
     ]
    }
   ],
   "source": [
    "class Net(nn.Module):\n",
    "    def __init__(self):\n",
    "        super().__init__()\n",
    " \n",
    "        #definierar mina convolutional layers\n",
    "        # self.conv1 = nn.Conv2d(1, 32, 5)\n",
    "        # self.conv2 = nn.Conv2d(32, 64, 5)\n",
    "\n",
    "        # self.conv3 = nn.Conv2d(64, 128, 3)\n",
    " \n",
    "        # self.pool = nn.MaxPool2d(2, 2)\n",
    " \n",
    "        #vet inte hur man vet output från sista conv layer så måste mata fakedata genom\n",
    "        #modellen\n",
    "        # x = torch.randn(img_size,img_size).view(-1,1,img_size,img_size)\n",
    "        # self._to_linear = None\n",
    "        # self.convs(x)\n",
    " \n",
    "\n",
    "        #här är mina linjära lager\n",
    "        #self.fc1 = nn.Linear(self._to_linear, 512)\n",
    "        self.fc1 = nn.Linear(img_size*img_size, 1024)\n",
    "\n",
    "\n",
    "        self.fc2 = nn.Linear(1024, 1024)\n",
    "\n",
    "        self.fc3 = nn.Linear(1024, 512)\n",
    "\n",
    "        self.fc4 = nn.Linear(512, 256)\n",
    "\n",
    "        self.fc5 = nn.Linear(256, 2)\n",
    " \n",
    " \n",
    " \n",
    "    def convs(self, x):\n",
    "        # max pooling over 2x2\n",
    "        x = self.pool(F.relu(self.conv1(x)))\n",
    "        x = self.pool(F.relu(self.conv2(x)))\n",
    "\n",
    "        x = self.pool(F.relu(self.conv3(x)))\n",
    "\n",
    "        \n",
    "        if self._to_linear is None:\n",
    "            #multiplicera varje dimension av x\n",
    "            #(detta nummer kommer vara samma varje gång, så du behöver bara göra detta 1 gång)\n",
    "            self._to_linear = x[0].shape[0]*x[0].shape[1]*x[0].shape[2]\n",
    "        return x\n",
    " \n",
    " \n",
    "    #detta bestämmer hur datan kommer att flöda genom modellen\n",
    "    def forward(self, x):\n",
    "        #går igenom alla convolutional layers och använder max pooling\n",
    "        # x = self.convs(x)\n",
    "        \n",
    "        #flatten (convolutional layers kan ta emot multidimensionell data men linjära layers kan inte det)\n",
    "        x = torch.flatten(x, 1) #flatten all dimensions except batch\n",
    " \n",
    "        #använder en relu för första linjära lagret\n",
    "        x = F.relu(self.fc1(x))\n",
    "        x = F.relu(self.fc2(x))\n",
    "\n",
    "        x = F.relu(self.fc3(x))\n",
    "        x = F.relu(self.fc4(x))\n",
    "\n",
    " \n",
    "        #kanske ska prova att använda softmax. \n",
    "        x = self.fc5(x)\n",
    " \n",
    "        return x\n",
    " \n",
    " \n",
    "model = Net()\n",
    "print(model)"
   ]
  },
  {
   "cell_type": "code",
   "execution_count": 17,
   "metadata": {},
   "outputs": [
    {
     "name": "stderr",
     "output_type": "stream",
     "text": [
      "100%|██████████| 40/40 [04:03<00:00,  6.09s/it]\n"
     ]
    },
    {
     "name": "stdout",
     "output_type": "stream",
     "text": [
      "1 . Accuracy of the network: 50 %\n",
      "\n"
     ]
    },
    {
     "name": "stderr",
     "output_type": "stream",
     "text": [
      "100%|██████████| 40/40 [03:54<00:00,  5.86s/it]\n"
     ]
    },
    {
     "name": "stdout",
     "output_type": "stream",
     "text": [
      "2 . Accuracy of the network: 78 %\n",
      "\n"
     ]
    },
    {
     "name": "stderr",
     "output_type": "stream",
     "text": [
      "100%|██████████| 40/40 [03:53<00:00,  5.83s/it]\n"
     ]
    },
    {
     "name": "stdout",
     "output_type": "stream",
     "text": [
      "3 . Accuracy of the network: 83 %\n",
      "\n"
     ]
    },
    {
     "name": "stderr",
     "output_type": "stream",
     "text": [
      "100%|██████████| 40/40 [03:49<00:00,  5.74s/it]\n"
     ]
    },
    {
     "name": "stdout",
     "output_type": "stream",
     "text": [
      "4 . Accuracy of the network: 65 %\n",
      "\n"
     ]
    },
    {
     "name": "stderr",
     "output_type": "stream",
     "text": [
      "100%|██████████| 40/40 [03:47<00:00,  5.68s/it]\n"
     ]
    },
    {
     "name": "stdout",
     "output_type": "stream",
     "text": [
      "5 . Accuracy of the network: 78 %\n",
      "\n"
     ]
    },
    {
     "name": "stderr",
     "output_type": "stream",
     "text": [
      "100%|██████████| 40/40 [03:41<00:00,  5.54s/it]\n"
     ]
    },
    {
     "name": "stdout",
     "output_type": "stream",
     "text": [
      "6 . Accuracy of the network: 76 %\n",
      "\n"
     ]
    },
    {
     "name": "stderr",
     "output_type": "stream",
     "text": [
      "100%|██████████| 40/40 [03:43<00:00,  5.58s/it]\n"
     ]
    },
    {
     "name": "stdout",
     "output_type": "stream",
     "text": [
      "7 . Accuracy of the network: 50 %\n",
      "\n"
     ]
    },
    {
     "name": "stderr",
     "output_type": "stream",
     "text": [
      "100%|██████████| 40/40 [03:41<00:00,  5.53s/it]\n"
     ]
    },
    {
     "name": "stdout",
     "output_type": "stream",
     "text": [
      "8 . Accuracy of the network: 74 %\n",
      "\n"
     ]
    },
    {
     "name": "stderr",
     "output_type": "stream",
     "text": [
      "100%|██████████| 40/40 [03:41<00:00,  5.54s/it]\n"
     ]
    },
    {
     "name": "stdout",
     "output_type": "stream",
     "text": [
      "9 . Accuracy of the network: 82 %\n",
      "\n"
     ]
    },
    {
     "name": "stderr",
     "output_type": "stream",
     "text": [
      "100%|██████████| 40/40 [03:46<00:00,  5.66s/it]\n"
     ]
    },
    {
     "name": "stdout",
     "output_type": "stream",
     "text": [
      "10 . Accuracy of the network: 79 %\n",
      "\n"
     ]
    },
    {
     "name": "stderr",
     "output_type": "stream",
     "text": [
      "100%|██████████| 40/40 [03:50<00:00,  5.76s/it]\n"
     ]
    },
    {
     "name": "stdout",
     "output_type": "stream",
     "text": [
      "11 . Accuracy of the network: 79 %\n",
      "\n"
     ]
    },
    {
     "name": "stderr",
     "output_type": "stream",
     "text": [
      "100%|██████████| 40/40 [03:49<00:00,  5.74s/it]\n"
     ]
    },
    {
     "name": "stdout",
     "output_type": "stream",
     "text": [
      "12 . Accuracy of the network: 78 %\n",
      "\n"
     ]
    },
    {
     "name": "stderr",
     "output_type": "stream",
     "text": [
      "100%|██████████| 40/40 [03:39<00:00,  5.48s/it]\n"
     ]
    },
    {
     "name": "stdout",
     "output_type": "stream",
     "text": [
      "13 . Accuracy of the network: 72 %\n",
      "\n"
     ]
    },
    {
     "name": "stderr",
     "output_type": "stream",
     "text": [
      "100%|██████████| 40/40 [03:33<00:00,  5.33s/it]\n"
     ]
    },
    {
     "name": "stdout",
     "output_type": "stream",
     "text": [
      "14 . Accuracy of the network: 71 %\n",
      "\n"
     ]
    },
    {
     "name": "stderr",
     "output_type": "stream",
     "text": [
      "100%|██████████| 40/40 [03:39<00:00,  5.49s/it]\n"
     ]
    },
    {
     "name": "stdout",
     "output_type": "stream",
     "text": [
      "15 . Accuracy of the network: 61 %\n",
      "\n",
      "training complete\n"
     ]
    }
   ],
   "source": [
    "epochs = 15\n",
    "resumePrev = False\n",
    "\n",
    "\n",
    "#skapar nya värden\n",
    "if resumePrev == False:\n",
    "  bestAcc = 0.0 \n",
    "  model = Net()\n",
    "  accHistory = []\n",
    "\n",
    "#laddar tidigare värden\n",
    "else:\n",
    "  with open('bestAcc.txt') as f:\n",
    "    w = [float(x) for x in next(f).split()] # read first line\n",
    "    bestAcc = w[0]\n",
    "    with open ('accHist', 'rb') as fp:\n",
    "      accHistory = pickle.load(fp)\n",
    "\n",
    "\n",
    "  model = Net()\n",
    "  model.load_state_dict(torch.load('best.pth'))\n",
    "\n",
    "\n",
    "optimizer = optim.Adam(model.parameters(), lr=0.005)\n",
    "\n",
    "#jag använder sgd eftersom den är mer basic att förklara i mitt gymnasiearbete \n",
    "#optimizer = optim.SGD(model.parameters(), lr=0.01, momentum=0.9)\n",
    "criterion = nn.CrossEntropyLoss()\n",
    "\n",
    "\n",
    "for epoch in range(epochs):\n",
    "    for data in tqdm(trainLoader):\n",
    " \n",
    "        #detta är min data (kommer förmodligen se annorlunda ut med riktig data)\n",
    "        inputs, labels = data\n",
    "        inputs = inputs.view(batchSize, 1, img_size, img_size).float()\n",
    "\n",
    "        #flyttar till gpu (om du har mycket data kommer allt inte få plats på din gpu\n",
    "        # samtidigt (lös det då))\n",
    "        #inputs, labels = inputs.to(gpu), labels.to(gpu)\n",
    " \n",
    "        #nollställer gradien\n",
    "        optimizer.zero_grad()\n",
    " \n",
    "        #plattar till bilden och kör den genom modellen\n",
    "        #output = model(inputs.view(-1, 1, img_size, img_size))\n",
    "        #output = model(inputs.view(-1, img_size*img_size))\n",
    "        outputs = model(inputs)\n",
    "\n",
    "        _, predicted = torch.max(outputs.data, 1)\n",
    "\n",
    "        #beräknar loss (din output jämfört med din label)\n",
    "        loss = criterion(outputs, labels)\n",
    " \n",
    "        #we calculate the gradients, and then we step down the slope\n",
    "        loss.backward()\n",
    "        optimizer.step()\n",
    "        \n",
    "\n",
    "    #räknar validation varje epok (beöver egentligen bara göras i slutet av en träning)\n",
    "    correct = 0\n",
    "    total = 0\n",
    "    count = 0\n",
    " \n",
    "    with torch.no_grad():\n",
    "        for data in valLoader:\n",
    "\n",
    "            #i den över heter det inputs istället (gör detta konsekvent)\n",
    "            images, labels = data\n",
    "            images = images.view(batchSize, 1, img_size, img_size).float()\n",
    "            #images, labels = images.to(gpu), labels.to(gpu)\n",
    "            \n",
    "            # calculate outputs by running images through the network\n",
    "            outputs = model(images)\n",
    "            #outputs = model(inputs.view(-1, 1, img_size, img_size))\n",
    "            #output = model(inputs.view(-1, img_size*img_size))\n",
    "            # the class with the highest energy is what we choose as prediction\n",
    "            _, predicted = torch.max(outputs.data, 1)\n",
    "            total += labels.size(0)\n",
    "            correct += (predicted == labels).sum().item()\n",
    "            count += 1\n",
    "\n",
    "    accHistory.append(100 * (correct / total))\n",
    "    #sparar accHistory till fil\n",
    "    with open('accHist', 'wb') as fp:\n",
    "      pickle.dump(accHistory, fp)\n",
    "\n",
    "    #spara modellen efter varje epok, sparar de bästa vikterna till fil.\n",
    "    torch.save(model.state_dict(), 'latest.pth')\n",
    "    if (correct / total) > bestAcc:\n",
    "      bestAcc = (correct / total)\n",
    "      f = open(\"bestAcc.txt\", \"w\")\n",
    "      f.write(str(bestAcc))\n",
    "      f.close()\n",
    "      torch.save(model.state_dict(), 'best.pth')\n",
    " \n",
    "\n",
    "    \n",
    "    print((epoch+1), '. Accuracy of the network: %d %%' % (100 * correct / total))\n",
    "    print('')\n",
    "print('training complete')"
   ]
  },
  {
   "cell_type": "markdown",
   "metadata": {},
   "source": [
    "aaaaaaaaaaaaaaaaaaaaaaaaaaaaaaaaaaaaaaaaaaaaaaaaaaaaaaaaaaa"
   ]
  },
  {
   "cell_type": "code",
   "execution_count": 18,
   "metadata": {},
   "outputs": [
    {
     "name": "stdout",
     "output_type": "stream",
     "text": [
      "[50.0, 78.125, 83.25892857142857, 65.625, 78.34821428571429, 76.11607142857143, 50.22321428571429, 74.55357142857143, 82.58928571428571, 79.01785714285714, 79.46428571428571, 78.34821428571429, 72.76785714285714, 71.42857142857143, 61.16071428571429]\n"
     ]
    },
    {
     "data": {
      "image/png": "[encoded data removed]",
      "text/plain": [
       "<Figure size 432x288 with 1 Axes>"
      ]
     },
     "metadata": {
      "needs_background": "light"
     },
     "output_type": "display_data"
    }
   ],
   "source": [
    "with open ('accHist', 'rb') as fp:\n",
    "      accHistory = pickle.load(fp)\n",
    "\n",
    "# print(accHistory)\n",
    "\n",
    "print(accHistory)\n",
    "\n",
    "\n",
    "\n",
    "xpoints = []\n",
    "for i in range(15):\n",
    "  xpoints.append(i + 1)\n",
    "\n",
    "plt.plot(xpoints, accHistory)\n",
    "plt.show()"
   ]
  }
 ],
 "metadata": {
  "interpreter": {
   "hash": "29d6b42ff83b7cfd5562aa53ea411037259b4edab68f8901c740cfe0590512bb"
  },
  "kernelspec": {
   "display_name": "Python 3.9.7 64-bit ('base': conda)",
   "language": "python",
   "name": "python3"
  },
  "language_info": {
   "codemirror_mode": {
    "name": "ipython",
    "version": 3
   },
   "file_extension": ".py",
   "mimetype": "text/x-python",
   "name": "python",
   "nbconvert_exporter": "python",
   "pygments_lexer": "ipython3",
   "version": "3.9.7"
  },
  "orig_nbformat": 4
 },
 "nbformat": 4,
 "nbformat_minor": 2
}
